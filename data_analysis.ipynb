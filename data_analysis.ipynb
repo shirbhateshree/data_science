{
 "cells": [
  {
   "cell_type": "code",
   "execution_count": 13,
   "metadata": {},
   "outputs": [],
   "source": [
    "import pandas as pd\n"
   ]
  },
  {
   "cell_type": "code",
   "execution_count": 14,
   "metadata": {},
   "outputs": [
    {
     "name": "stdout",
     "output_type": "stream",
     "text": [
      "pandas namespace== ['T', '_AXIS_ALIASES', '_AXIS_IALIASES', '_AXIS_LEN', '_AXIS_NAMES', '_AXIS_NUMBERS', '_AXIS_ORDERS', '_AXIS_REVERSED', '__abs__', '__add__', '__and__', '__array__', '__array_priority__', '__array_wrap__', '__bool__', '__class__', '__contains__', '__copy__', '__deepcopy__', '__delattr__', '__delitem__', '__dict__', '__dir__', '__div__', '__doc__', '__eq__', '__finalize__', '__floordiv__', '__format__', '__ge__', '__getattr__', '__getattribute__', '__getitem__', '__getstate__', '__gt__', '__hash__', '__iadd__', '__iand__', '__ifloordiv__', '__imod__', '__imul__', '__init__', '__init_subclass__', '__invert__', '__ior__', '__ipow__', '__isub__', '__iter__', '__itruediv__', '__ixor__', '__le__', '__len__', '__lt__', '__matmul__', '__mod__', '__module__', '__mul__', '__ne__', '__neg__', '__new__', '__nonzero__', '__or__', '__pos__', '__pow__', '__radd__', '__rand__', '__rdiv__', '__reduce__', '__reduce_ex__', '__repr__', '__rfloordiv__', '__rmatmul__', '__rmod__', '__rmul__', '__ror__', '__round__', '__rpow__', '__rsub__', '__rtruediv__', '__rxor__', '__setattr__', '__setitem__', '__setstate__', '__sizeof__', '__str__', '__sub__', '__subclasshook__', '__truediv__', '__weakref__', '__xor__', '_accessors', '_add_numeric_operations', '_add_series_only_operations', '_add_series_or_dataframe_operations', '_agg_by_level', '_agg_examples_doc', '_agg_summary_and_see_also_doc', '_aggregate', '_aggregate_multiple_funcs', '_align_frame', '_align_series', '_box_col_values', '_box_item_values', '_builtin_table', '_check_inplace_setting', '_check_is_chained_assignment_possible', '_check_label_or_level_ambiguity', '_check_percentile', '_check_setitem_copy', '_clear_item_cache', '_clip_with_one_bound', '_clip_with_scalar', '_combine_const', '_combine_frame', '_combine_match_columns', '_combine_match_index', '_consolidate', '_consolidate_inplace', '_construct_axes_dict', '_construct_axes_dict_from', '_construct_axes_from_arguments', '_constructor', '_constructor_expanddim', '_constructor_sliced', '_convert', '_count_level', '_create_indexer', '_cython_table', '_data', '_deprecations', '_dir_additions', '_dir_deletions', '_drop_axis', '_drop_labels_or_levels', '_ensure_valid_index', '_find_valid_index', '_from_arrays', '_from_axes', '_get_agg_axis', '_get_axis', '_get_axis_name', '_get_axis_number', '_get_axis_resolvers', '_get_block_manager_axis', '_get_bool_data', '_get_cacher', '_get_index_resolvers', '_get_item_cache', '_get_label_or_level_values', '_get_numeric_data', '_get_space_character_free_column_resolvers', '_get_value', '_get_values', '_getitem_bool_array', '_getitem_frame', '_getitem_multilevel', '_gotitem', '_iget_item_cache', '_indexed_same', '_info_axis', '_info_axis_name', '_info_axis_number', '_info_repr', '_init_mgr', '_internal_get_values', '_internal_names', '_internal_names_set', '_is_builtin_func', '_is_cached', '_is_copy', '_is_cython_func', '_is_datelike_mixed_type', '_is_homogeneous_type', '_is_label_or_level_reference', '_is_label_reference', '_is_level_reference', '_is_mixed_type', '_is_numeric_mixed_type', '_is_view', '_ix', '_ixs', '_join_compat', '_maybe_cache_changed', '_maybe_update_cacher', '_metadata', '_needs_reindex_multi', '_obj_with_exclusions', '_protect_consolidate', '_reduce', '_reindex_axes', '_reindex_columns', '_reindex_index', '_reindex_multi', '_reindex_with_indexers', '_repr_data_resource_', '_repr_fits_horizontal_', '_repr_fits_vertical_', '_repr_html_', '_repr_latex_', '_reset_cache', '_reset_cacher', '_sanitize_column', '_selected_obj', '_selection', '_selection_list', '_selection_name', '_series', '_set_as_cached', '_set_axis', '_set_axis_name', '_set_is_copy', '_set_item', '_set_value', '_setitem_array', '_setitem_frame', '_setitem_slice', '_setup_axes', '_shallow_copy', '_slice', '_stat_axis', '_stat_axis_name', '_stat_axis_number', '_to_dict_of_blocks', '_try_aggregate_string_function', '_typ', '_unpickle_frame_compat', '_unpickle_matrix_compat', '_update_inplace', '_validate_dtype', '_values', '_where', '_xs', 'abs', 'add', 'add_prefix', 'add_suffix', 'agg', 'aggregate', 'align', 'all', 'any', 'append', 'apply', 'applymap', 'as_matrix', 'asfreq', 'asof', 'assign', 'astype', 'at', 'at_time', 'axes', 'between_time', 'bfill', 'bool', 'boxplot', 'clip', 'clip_lower', 'clip_upper', 'columns', 'combine', 'combine_first', 'compound', 'copy', 'corr', 'corrwith', 'count', 'cov', 'cummax', 'cummin', 'cumprod', 'cumsum', 'describe', 'diff', 'discipline', 'div', 'divide', 'dot', 'drop', 'drop_duplicates', 'droplevel', 'dropna', 'dtypes', 'duplicated', 'empty', 'eq', 'equals', 'eval', 'ewm', 'expanding', 'explode', 'ffill', 'fillna', 'filter', 'first', 'first_valid_index', 'floordiv', 'from_dict', 'from_records', 'ge', 'get', 'get_dtype_counts', 'get_ftype_counts', 'get_values', 'groupby', 'gt', 'head', 'hist', 'iat', 'idxmax', 'idxmin', 'iloc', 'index', 'infer_objects', 'info', 'insert', 'interpolate', 'isin', 'isna', 'isnull', 'items', 'iteritems', 'iterrows', 'itertuples', 'join', 'keys', 'kurt', 'kurtosis', 'last', 'last_valid_index', 'le', 'loc', 'lookup', 'lt', 'mad', 'mask', 'max', 'mean', 'median', 'melt', 'memory_usage', 'merge', 'min', 'mod', 'mode', 'mul', 'multiply', 'ndim', 'ne', 'nlargest', 'notna', 'notnull', 'nsmallest', 'nunique', 'pct_change', 'phd', 'pipe', 'pivot', 'pivot_table', 'plot', 'pop', 'pow', 'prod', 'product', 'quantile', 'query', 'radd', 'rank', 'rdiv', 'reindex', 'reindex_like', 'rename', 'rename_axis', 'reorder_levels', 'replace', 'resample', 'reset_index', 'rfloordiv', 'rmod', 'rmul', 'rolling', 'round', 'rpow', 'rsub', 'rtruediv', 'salary', 'sample', 'select_dtypes', 'sem', 'service', 'set_axis', 'set_index', 'sex', 'shape', 'shift', 'size', 'skew', 'slice_shift', 'sort_index', 'sort_values', 'sparse', 'squeeze', 'stack', 'std', 'style', 'sub', 'subtract', 'sum', 'swapaxes', 'swaplevel', 'tail', 'take', 'to_clipboard', 'to_csv', 'to_dense', 'to_dict', 'to_excel', 'to_feather', 'to_gbq', 'to_hdf', 'to_html', 'to_json', 'to_latex', 'to_msgpack', 'to_numpy', 'to_parquet', 'to_period', 'to_pickle', 'to_records', 'to_sparse', 'to_sql', 'to_stata', 'to_string', 'to_timestamp', 'to_xarray', 'transform', 'transpose', 'truediv', 'truncate', 'tshift', 'tz_convert', 'tz_localize', 'unstack', 'update', 'values', 'var', 'where', 'xs']\n"
     ]
    }
   ],
   "source": [
    "df=pd.read_csv(\"D:\\ETL\\python_training\\data_science\\Salary_data.csv\")\n",
    "print(\"pandas namespace==\",dir(df))"
   ]
  },
  {
   "cell_type": "code",
   "execution_count": 7,
   "metadata": {},
   "outputs": [
    {
     "name": "stdout",
     "output_type": "stream",
     "text": [
      "   rank discipline   phd  service   sex  salary\n",
      "0  Prof        NaN  56.0       49  Male  186960\n",
      "1  Prof          A  12.0        6  Male   93000\n",
      "2  Prof          A  23.0       20  Male  110515\n",
      "3  Prof          A  40.0       31  Male  131205\n",
      "4  Prof          B  20.0       18  Male  104800\n"
     ]
    }
   ],
   "source": [
    "print(df.head())"
   ]
  },
  {
   "cell_type": "code",
   "execution_count": 8,
   "metadata": {},
   "outputs": [
    {
     "name": "stdout",
     "output_type": "stream",
     "text": [
      "         rank discipline   phd  service     sex  salary\n",
      "73       Prof          B  18.0       10  Female  105450\n",
      "74  AssocProf          B  19.0        6  Female  104542\n",
      "75       Prof          B  17.0       17  Female  124312\n",
      "76       Prof          A  28.0       14  Female  109954\n",
      "77       Prof          A  23.0       15  Female  109646\n"
     ]
    }
   ],
   "source": [
    "print(df.tail())\n"
   ]
  },
  {
   "cell_type": "code",
   "execution_count": 9,
   "metadata": {},
   "outputs": [
    {
     "ename": "TypeError",
     "evalue": "'Series' object is not callable",
     "output_type": "error",
     "traceback": [
      "\u001b[1;31m---------------------------------------------------------------------------\u001b[0m",
      "\u001b[1;31mTypeError\u001b[0m                                 Traceback (most recent call last)",
      "\u001b[1;32m<ipython-input-9-056dab67fdc1>\u001b[0m in \u001b[0;36m<module>\u001b[1;34m\u001b[0m\n\u001b[1;32m----> 1\u001b[1;33m \u001b[0mprint\u001b[0m\u001b[1;33m(\u001b[0m\u001b[0mdf\u001b[0m\u001b[1;33m.\u001b[0m\u001b[0mdtypes\u001b[0m\u001b[1;33m(\u001b[0m\u001b[1;33m)\u001b[0m\u001b[1;33m)\u001b[0m\u001b[1;33m\u001b[0m\u001b[1;33m\u001b[0m\u001b[0m\n\u001b[0m",
      "\u001b[1;31mTypeError\u001b[0m: 'Series' object is not callable"
     ]
    }
   ],
   "source": [
    "print(df.dtypes())\n"
   ]
  },
  {
   "cell_type": "code",
   "execution_count": 10,
   "metadata": {},
   "outputs": [
    {
     "name": "stdout",
     "output_type": "stream",
     "text": [
      "object\n",
      "[RangeIndex(start=0, stop=78, step=1), Index(['rank', 'discipline', 'phd', 'service', 'sex', 'salary'], dtype='object')]\n"
     ]
    }
   ],
   "source": [
    "print(df['rank'].dtype)\n",
    "print(df.axes)"
   ]
  },
  {
   "cell_type": "code",
   "execution_count": 7,
   "metadata": {},
   "outputs": [
    {
     "name": "stdout",
     "output_type": "stream",
     "text": [
      "<class 'pandas.core.series.Series'>\n"
     ]
    }
   ],
   "source": [
    "print(type(df['rank']))"
   ]
  },
  {
   "cell_type": "code",
   "execution_count": 11,
   "metadata": {},
   "outputs": [
    {
     "ename": "SyntaxError",
     "evalue": "invalid syntax (<ipython-input-11-8c474bd118ff>, line 7)",
     "output_type": "error",
     "traceback": [
      "\u001b[1;36m  File \u001b[1;32m\"<ipython-input-11-8c474bd118ff>\"\u001b[1;36m, line \u001b[1;32m7\u001b[0m\n\u001b[1;33m    print(\"values for rank and phd====\",df.[['rank','phd']].values)\u001b[0m\n\u001b[1;37m                                           ^\u001b[0m\n\u001b[1;31mSyntaxError\u001b[0m\u001b[1;31m:\u001b[0m invalid syntax\n"
     ]
    }
   ],
   "source": [
    "print(\"columns====\",df.columns)\n",
    "print(\"axes====\",df.axes)\n",
    "print(\"ndim====\",df.ndim)\n",
    "print(\"size====\",df.size)\n",
    "print(\"shape====\",df.shape)\n",
    "print(\"values for all ===\",df.values)\n",
    "print(\"values for rank and phd====\",df.[['rank','phd']].values)"
   ]
  },
  {
   "cell_type": "code",
   "execution_count": 10,
   "metadata": {},
   "outputs": [
    {
     "ename": "SyntaxError",
     "evalue": "invalid syntax (<ipython-input-10-8c474bd118ff>, line 7)",
     "output_type": "error",
     "traceback": [
      "\u001b[1;36m  File \u001b[1;32m\"<ipython-input-10-8c474bd118ff>\"\u001b[1;36m, line \u001b[1;32m7\u001b[0m\n\u001b[1;33m    print(\"values for rank and phd====\",df.[['rank','phd']].values)\u001b[0m\n\u001b[1;37m                                           ^\u001b[0m\n\u001b[1;31mSyntaxError\u001b[0m\u001b[1;31m:\u001b[0m invalid syntax\n"
     ]
    }
   ],
   "source": [
    "print(\"columns====\",df.columns)\n",
    "print(\"axes====\",df.axes)\n",
    "print(\"ndim====\",df.ndim)\n",
    "print(\"size====\",df.size)\n",
    "print(\"shape====\",df.shape)\n",
    "print(\"values for all ===\",df.values)\n",
    "print(\"values for rank and phd====\",df.[['rank','phd']].values)"
   ]
  },
  {
   "cell_type": "code",
   "execution_count": 11,
   "metadata": {},
   "outputs": [
    {
     "name": "stdout",
     "output_type": "stream",
     "text": [
      "columns==== Index(['rank', 'discipline', 'phd', 'service', 'sex', 'salary'], dtype='object')\n",
      "axes==== [RangeIndex(start=0, stop=78, step=1), Index(['rank', 'discipline', 'phd', 'service', 'sex', 'salary'], dtype='object')]\n",
      "ndim==== 2\n",
      "size==== 468\n",
      "shape==== (78, 6)\n",
      "values for all === [['Prof' nan 56.0 49 'Male' 186960]\n",
      " ['Prof' 'A' 12.0 6 'Male' 93000]\n",
      " ['Prof' 'A' 23.0 20 'Male' 110515]\n",
      " ['Prof' 'A' 40.0 31 'Male' 131205]\n",
      " ['Prof' 'B' 20.0 18 'Male' 104800]\n",
      " ['Prof' 'A' 20.0 20 'Male' 122400]\n",
      " ['AssocProf' 'A' nan 17 'Male' 81285]\n",
      " ['Prof' 'A' 18.0 18 'Male' 126300]\n",
      " ['Prof' 'A' 29.0 19 'Male' 94350]\n",
      " ['Prof' 'A' 51.0 51 'Male' 57800]\n",
      " ['Prof' 'B' 39.0 33 'Male' 128250]\n",
      " ['Prof' 'B' 23.0 23 'Male' 134778]\n",
      " ['AsstProf' 'B' 1.0 0 'Male' 88000]\n",
      " ['Prof' 'B' 35.0 33 'Male' 162200]\n",
      " ['Prof' 'B' 25.0 19 'Male' 153750]\n",
      " ['Prof' 'B' 17.0 3 'Male' 150480]\n",
      " ['AsstProf' 'B' 8.0 3 'Male' 75044]\n",
      " ['AsstProf' 'B' 4.0 0 'Male' 92000]\n",
      " ['Prof' 'A' 19.0 7 'Male' 107300]\n",
      " ['Prof' 'A' 29.0 27 'Male' 150500]\n",
      " ['AsstProf' 'B' 4.0 4 'Male' 92000]\n",
      " ['Prof' 'A' 33.0 30 'Male' 103106]\n",
      " ['AsstProf' 'A' 4.0 2 'Male' 73000]\n",
      " ['AsstProf' 'A' 2.0 0 'Male' 85000]\n",
      " ['Prof' 'A' 30.0 23 'Male' 91100]\n",
      " ['Prof' 'B' 35.0 31 'Male' 99418]\n",
      " ['Prof' 'A' 38.0 19 'Male' 148750]\n",
      " ['Prof' 'A' 45.0 43 'Male' 155865]\n",
      " ['AsstProf' 'B' 7.0 2 'Male' 91300]\n",
      " ['Prof' 'B' 21.0 20 'Male' 123683]\n",
      " ['AssocProf' 'B' 9.0 7 'Male' 107008]\n",
      " ['Prof' 'B' 22.0 21 'Male' 155750]\n",
      " ['Prof' 'A' 27.0 19 'Male' 103275]\n",
      " ['Prof' 'B' 18.0 18 'Male' 120000]\n",
      " ['AssocProf' 'B' 12.0 8 'Male' 119800]\n",
      " ['Prof' 'B' 28.0 23 'Male' 126933]\n",
      " ['Prof' 'B' 45.0 45 'Male' 146856]\n",
      " ['Prof' 'A' 20.0 8 'Male' 102000]\n",
      " ['AsstProf' 'B' 4.0 3 'Male' 91000]\n",
      " ['Prof' 'B' 18.0 18 'Female' 129000]\n",
      " ['Prof' 'A' 39.0 36 'Female' 137000]\n",
      " ['AssocProf' 'A' 13.0 8 'Female' 74830]\n",
      " ['AsstProf' 'B' 4.0 2 'Female' 80225]\n",
      " ['AsstProf' 'B' 5.0 0 'Female' 77000]\n",
      " ['Prof' 'B' 23.0 19 'Female' 151768]\n",
      " ['Prof' 'B' 25.0 25 'Female' 140096]\n",
      " ['AsstProf' 'B' 11.0 3 'Female' 74692]\n",
      " ['AssocProf' 'B' 11.0 11 'Female' 103613]\n",
      " ['Prof' 'B' 17.0 17 'Female' 111512]\n",
      " ['Prof' 'B' 17.0 18 'Female' 122960]\n",
      " ['AsstProf' 'B' 10.0 5 'Female' 97032]\n",
      " ['Prof' 'B' 20.0 14 'Female' 127512]\n",
      " ['Prof' 'A' 12.0 0 'Female' 105000]\n",
      " ['AsstProf' 'A' 5.0 3 'Female' 73500]\n",
      " ['AssocProf' 'A' 25.0 22 'Female' 62884]\n",
      " ['AsstProf' 'A' 2.0 0 'Female' 72500]\n",
      " ['AssocProf' 'A' 10.0 8 'Female' 77500]\n",
      " ['AsstProf' 'A' 3.0 1 'Female' 72500]\n",
      " ['Prof' 'B' 36.0 26 'Female' 144651]\n",
      " ['AssocProf' 'B' 12.0 10 'Female' 103994]\n",
      " ['AsstProf' 'B' 3.0 3 'Female' 92000]\n",
      " ['AssocProf' 'B' 13.0 10 'Female' 103750]\n",
      " ['AssocProf' 'B' 14.0 7 'Female' 109650]\n",
      " ['Prof' 'A' 29.0 27 'Female' 91000]\n",
      " ['AssocProf' 'A' 26.0 24 'Female' 73300]\n",
      " ['Prof' 'A' 36.0 19 'Female' 117555]\n",
      " ['AsstProf' 'A' 7.0 6 'Female' 63100]\n",
      " ['Prof' 'A' 17.0 11 'Female' 90450]\n",
      " ['AsstProf' 'A' 4.0 2 'Female' 77500]\n",
      " ['Prof' 'A' 28.0 7 'Female' 116450]\n",
      " ['AsstProf' 'A' 8.0 3 'Female' 78500]\n",
      " ['AssocProf' 'B' 12.0 9 'Female' 71065]\n",
      " ['Prof' 'B' 24.0 15 'Female' 161101]\n",
      " ['Prof' 'B' 18.0 10 'Female' 105450]\n",
      " ['AssocProf' 'B' 19.0 6 'Female' 104542]\n",
      " ['Prof' 'B' 17.0 17 'Female' 124312]\n",
      " ['Prof' 'A' 28.0 14 'Female' 109954]\n",
      " ['Prof' 'A' 23.0 15 'Female' 109646]]\n",
      "values for rank and phd==== [['Prof' 56.0]\n",
      " ['Prof' 12.0]\n",
      " ['Prof' 23.0]\n",
      " ['Prof' 40.0]\n",
      " ['Prof' 20.0]\n",
      " ['Prof' 20.0]\n",
      " ['AssocProf' nan]\n",
      " ['Prof' 18.0]\n",
      " ['Prof' 29.0]\n",
      " ['Prof' 51.0]\n",
      " ['Prof' 39.0]\n",
      " ['Prof' 23.0]\n",
      " ['AsstProf' 1.0]\n",
      " ['Prof' 35.0]\n",
      " ['Prof' 25.0]\n",
      " ['Prof' 17.0]\n",
      " ['AsstProf' 8.0]\n",
      " ['AsstProf' 4.0]\n",
      " ['Prof' 19.0]\n",
      " ['Prof' 29.0]\n",
      " ['AsstProf' 4.0]\n",
      " ['Prof' 33.0]\n",
      " ['AsstProf' 4.0]\n",
      " ['AsstProf' 2.0]\n",
      " ['Prof' 30.0]\n",
      " ['Prof' 35.0]\n",
      " ['Prof' 38.0]\n",
      " ['Prof' 45.0]\n",
      " ['AsstProf' 7.0]\n",
      " ['Prof' 21.0]\n",
      " ['AssocProf' 9.0]\n",
      " ['Prof' 22.0]\n",
      " ['Prof' 27.0]\n",
      " ['Prof' 18.0]\n",
      " ['AssocProf' 12.0]\n",
      " ['Prof' 28.0]\n",
      " ['Prof' 45.0]\n",
      " ['Prof' 20.0]\n",
      " ['AsstProf' 4.0]\n",
      " ['Prof' 18.0]\n",
      " ['Prof' 39.0]\n",
      " ['AssocProf' 13.0]\n",
      " ['AsstProf' 4.0]\n",
      " ['AsstProf' 5.0]\n",
      " ['Prof' 23.0]\n",
      " ['Prof' 25.0]\n",
      " ['AsstProf' 11.0]\n",
      " ['AssocProf' 11.0]\n",
      " ['Prof' 17.0]\n",
      " ['Prof' 17.0]\n",
      " ['AsstProf' 10.0]\n",
      " ['Prof' 20.0]\n",
      " ['Prof' 12.0]\n",
      " ['AsstProf' 5.0]\n",
      " ['AssocProf' 25.0]\n",
      " ['AsstProf' 2.0]\n",
      " ['AssocProf' 10.0]\n",
      " ['AsstProf' 3.0]\n",
      " ['Prof' 36.0]\n",
      " ['AssocProf' 12.0]\n",
      " ['AsstProf' 3.0]\n",
      " ['AssocProf' 13.0]\n",
      " ['AssocProf' 14.0]\n",
      " ['Prof' 29.0]\n",
      " ['AssocProf' 26.0]\n",
      " ['Prof' 36.0]\n",
      " ['AsstProf' 7.0]\n",
      " ['Prof' 17.0]\n",
      " ['AsstProf' 4.0]\n",
      " ['Prof' 28.0]\n",
      " ['AsstProf' 8.0]\n",
      " ['AssocProf' 12.0]\n",
      " ['Prof' 24.0]\n",
      " ['Prof' 18.0]\n",
      " ['AssocProf' 19.0]\n",
      " ['Prof' 17.0]\n",
      " ['Prof' 28.0]\n",
      " ['Prof' 23.0]]\n"
     ]
    }
   ],
   "source": [
    "print(\"columns====\",df.columns)\n",
    "print(\"axes====\",df.axes)\n",
    "print(\"ndim====\",df.ndim)\n",
    "print(\"size====\",df.size)\n",
    "print(\"shape====\",df.shape)\n",
    "print(\"values for all ===\",df.values)\n",
    "print(\"values for rank and phd====\",df[['rank','phd']].values)"
   ]
  },
  {
   "cell_type": "code",
   "execution_count": 12,
   "metadata": {},
   "outputs": [
    {
     "ename": "NameError",
     "evalue": "name 'describe_output' is not defined",
     "output_type": "error",
     "traceback": [
      "\u001b[1;31m---------------------------------------------------------------------------\u001b[0m",
      "\u001b[1;31mNameError\u001b[0m                                 Traceback (most recent call last)",
      "\u001b[1;32m<ipython-input-12-e99ecfc11b28>\u001b[0m in \u001b[0;36m<module>\u001b[1;34m\u001b[0m\n\u001b[0;32m      1\u001b[0m \u001b[1;31m#describe\u001b[0m\u001b[1;33m\u001b[0m\u001b[1;33m\u001b[0m\u001b[1;33m\u001b[0m\u001b[0m\n\u001b[0;32m      2\u001b[0m \u001b[0mdescribe_object\u001b[0m \u001b[1;33m=\u001b[0m \u001b[0mdf\u001b[0m\u001b[1;33m.\u001b[0m\u001b[0mdescribe\u001b[0m\u001b[1;33m(\u001b[0m\u001b[1;33m)\u001b[0m\u001b[1;33m\u001b[0m\u001b[1;33m\u001b[0m\u001b[0m\n\u001b[1;32m----> 3\u001b[1;33m \u001b[0mprint\u001b[0m\u001b[1;33m(\u001b[0m\u001b[0mdescribe_output\u001b[0m\u001b[1;33m)\u001b[0m\u001b[1;33m\u001b[0m\u001b[1;33m\u001b[0m\u001b[0m\n\u001b[0m\u001b[0;32m      4\u001b[0m \u001b[0mprint\u001b[0m\u001b[1;33m(\u001b[0m\u001b[0mtype\u001b[0m\u001b[1;33m(\u001b[0m\u001b[0mdescribe_output\u001b[0m\u001b[1;33m)\u001b[0m\u001b[1;33m)\u001b[0m\u001b[1;33m\u001b[0m\u001b[1;33m\u001b[0m\u001b[0m\n\u001b[0;32m      5\u001b[0m \u001b[0mprint\u001b[0m\u001b[1;33m(\u001b[0m\u001b[0mdescribe_output\u001b[0m\u001b[1;33m[\u001b[0m\u001b[1;33m[\u001b[0m\u001b[1;34m'phd'\u001b[0m\u001b[1;33m,\u001b[0m\u001b[1;34m'service'\u001b[0m\u001b[1;33m]\u001b[0m\u001b[1;33m]\u001b[0m\u001b[1;33m)\u001b[0m\u001b[1;33m\u001b[0m\u001b[1;33m\u001b[0m\u001b[0m\n",
      "\u001b[1;31mNameError\u001b[0m: name 'describe_output' is not defined"
     ]
    }
   ],
   "source": [
    "#describe\n",
    "describe_object = df.describe()\n",
    "print(describe_output)\n",
    "print(type(describe_output))\n",
    "print(describe_output[['phd','service']])\n",
    "print(describe_output.plot.area())\n",
    "print(describe_output.plot.bar())\n",
    "print(describe_output.plot.pie(subplot=true))\n",
    "\n"
   ]
  },
  {
   "cell_type": "code",
   "execution_count": 21,
   "metadata": {},
   "outputs": [
    {
     "name": "stdout",
     "output_type": "stream",
     "text": [
      "             phd    service         salary\n",
      "count  77.000000  78.000000      78.000000\n",
      "mean   19.701299  15.051282  108023.782051\n",
      "std    12.580337  12.139768   28293.661022\n",
      "min     1.000000   0.000000   57800.000000\n",
      "25%    10.000000   5.250000   88612.500000\n",
      "50%    18.000000  14.500000  104671.000000\n",
      "75%    28.000000  20.750000  126774.750000\n",
      "max    56.000000  51.000000  186960.000000\n",
      "<class 'pandas.core.frame.DataFrame'>\n",
      "             phd    service\n",
      "count  77.000000  78.000000\n",
      "mean   19.701299  15.051282\n",
      "std    12.580337  12.139768\n",
      "min     1.000000   0.000000\n",
      "25%    10.000000   5.250000\n",
      "50%    18.000000  14.500000\n",
      "75%    28.000000  20.750000\n",
      "max    56.000000  51.000000\n",
      "AxesSubplot(0.125,0.125;0.775x0.755)\n",
      "AxesSubplot(0.125,0.125;0.775x0.755)\n",
      "[<matplotlib.axes._subplots.AxesSubplot object at 0x111E1270>]\n"
     ]
    },
    {
     "data": {
      "image/png": "[encoded data removed]",
      "text/plain": [
       "<Figure size 432x288 with 1 Axes>"
      ]
     },
     "metadata": {
      "needs_background": "light"
     },
     "output_type": "display_data"
    },
    {
     "data": {
      "image/png": "[encoded data removed]",
      "text/plain": [
       "<Figure size 432x288 with 1 Axes>"
      ]
     },
     "metadata": {
      "needs_background": "light"
     },
     "output_type": "display_data"
    },
    {
     "data": {
      "image/png": "[encoded data removed]",
      "text/plain": [
       "<Figure size 432x288 with 1 Axes>"
      ]
     },
     "metadata": {},
     "output_type": "display_data"
    }
   ],
   "source": [
    "#describe\n",
    "describe_output = df.describe()\n",
    "print(describe_output)\n",
    "print(type(describe_output))\n",
    "print(describe_output[['phd','service']])\n",
    "print(describe_output.plot.area())\n",
    "print(describe_output.plot.bar())\n",
    "mydict = {\"count\":pd.Series([30,20,10,40,10],index=['phd','service','salary','age','role'])}\n",
    "d= pd.DataFrame(mydict)\n",
    "print(d.plot.pie(subplots=True))\n",
    "\n"
   ]
  },
  {
   "cell_type": "code",
   "execution_count": 23,
   "metadata": {},
   "outputs": [
    {
     "name": "stdout",
     "output_type": "stream",
     "text": [
      "max===\n",
      "rank         Prof\n",
      "phd            56\n",
      "service        51\n",
      "sex          Male\n",
      "salary     186960\n",
      "dtype: object\n",
      "min===\n",
      "rank       AssocProf\n",
      "phd                1\n",
      "service            0\n",
      "sex           Female\n",
      "salary         57800\n",
      "dtype: object\n",
      "std==\n",
      "phd           12.580337\n",
      "service       12.139768\n",
      "salary     28293.661022\n",
      "dtype: float64\n",
      "mean==\n",
      "phd            19.701299\n",
      "service        15.051282\n",
      "salary     108023.782051\n",
      "dtype: float64\n",
      "median===\n",
      "phd            18.0\n",
      "service        14.5\n",
      "salary     104671.0\n",
      "dtype: float64\n",
      "dropna===\n"
     ]
    }
   ],
   "source": [
    "print(\"max===\")\n",
    "print(df.max())\n",
    "print(\"min===\")\n",
    "print(df.min())\n",
    "print(\"std==\")\n",
    "print(df.std())\n",
    "print(\"mean==\")\n",
    "print(df.mean())\n",
    "print(\"median===\")\n",
    "print(df.median())\n",
    "print(\"dropna===\")\n",
    "#df.dropna()"
   ]
  },
  {
   "cell_type": "code",
   "execution_count": 24,
   "metadata": {},
   "outputs": [
    {
     "name": "stdout",
     "output_type": "stream",
     "text": [
      "         rank  salary\n",
      "0        Prof  186960\n",
      "1        Prof   93000\n",
      "2        Prof  110515\n",
      "3        Prof  131205\n",
      "4        Prof  104800\n",
      "..        ...     ...\n",
      "73       Prof  105450\n",
      "74  AssocProf  104542\n",
      "75       Prof  124312\n",
      "76       Prof  109954\n",
      "77       Prof  109646\n",
      "\n",
      "[78 rows x 2 columns]\n"
     ]
    }
   ],
   "source": [
    "print(df[['rank','salary']])"
   ]
  },
  {
   "cell_type": "code",
   "execution_count": 28,
   "metadata": {},
   "outputs": [
    {
     "name": "stdout",
     "output_type": "stream",
     "text": [
      "        rank discipline   phd  service   sex  salary\n",
      "10      Prof          B  39.0       33  Male  128250\n",
      "11      Prof          B  23.0       23  Male  134778\n",
      "12  AsstProf          B   1.0        0  Male   88000\n",
      "13      Prof          B  35.0       33  Male  162200\n",
      "14      Prof          B  25.0       19  Male  153750\n",
      "15      Prof          B  17.0        3  Male  150480\n",
      "16  AsstProf          B   8.0        3  Male   75044\n",
      "17  AsstProf          B   4.0        0  Male   92000\n",
      "18      Prof          A  19.0        7  Male  107300\n",
      "19      Prof          A  29.0       27  Male  150500\n",
      "\n",
      "        rank  salary\n",
      "10      Prof  128250\n",
      "11      Prof  134778\n",
      "12  AsstProf   88000\n",
      "13      Prof  162200\n",
      "14      Prof  153750\n",
      "15      Prof  150480\n",
      "16  AsstProf   75044\n",
      "17  AsstProf   92000\n",
      "18      Prof  107300\n",
      "19      Prof  150500\n",
      "20  AsstProf   92000\n",
      "\n",
      "     phd  service\n",
      "10  39.0       33\n",
      "11  23.0       23\n",
      "12   1.0        0\n",
      "13  35.0       33\n",
      "14  25.0       19\n",
      "15  17.0        3\n",
      "16   8.0        3\n",
      "17   4.0        0\n",
      "18  19.0        7\n",
      "19  29.0       27\n"
     ]
    }
   ],
   "source": [
    "print(df[10:20])\n",
    "print()\n",
    "print(df.loc[10:20,['rank','salary']])\n",
    "print()\n",
    "print(df.iloc[10:20,2:4])"
   ]
  },
  {
   "cell_type": "code",
   "execution_count": 33,
   "metadata": {},
   "outputs": [
    {
     "name": "stdout",
     "output_type": "stream",
     "text": [
      "\n",
      "<class 'pandas.core.series.Series'>\n"
     ]
    }
   ],
   "source": [
    "op = df['rank'].value_counts()\n",
    "print()\n",
    "print(type(op))\n"
   ]
  },
  {
   "cell_type": "code",
   "execution_count": null,
   "metadata": {},
   "outputs": [],
   "source": [
    "grp_obj=df.groupby(['rank'])\n",
    "print(dir(grp_obj))"
   ]
  }
 ],
 "metadata": {
  "kernelspec": {
   "display_name": "Python 3",
   "language": "python",
   "name": "python3"
  },
  "language_info": {
   "codemirror_mode": {
    "name": "ipython",
    "version": 3
   },
   "file_extension": ".py",
   "mimetype": "text/x-python",
   "name": "python",
   "nbconvert_exporter": "python",
   "pygments_lexer": "ipython3",
   "version": "3.7.4"
  }
 },
 "nbformat": 4,
 "nbformat_minor": 2
}
